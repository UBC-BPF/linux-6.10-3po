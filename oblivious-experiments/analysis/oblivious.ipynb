{
 "cells": [
  {
   "cell_type": "code",
   "execution_count": null,
   "metadata": {},
   "outputs": [],
   "source": [
    "#import pandas as pd\n",
    "import numpy as np \n",
    "import plotly.express as px\n",
    "import plotly.graph_objects as go\n",
    "import chart_studio\n",
    "import chart_studio.plotly as py\n",
    "import os\n",
    "\n",
    "import experiment_helpers\n",
    "\n",
    "#debug\n",
    "from importlib import reload\n",
    "from experiment_helpers import *\n",
    "reload(experiment_helpers)\n",
    "from experiment_helpers import *"
   ]
  },
  {
   "cell_type": "code",
   "execution_count": null,
   "metadata": {},
   "outputs": [],
   "source": [
    "### update per hardware setting\n",
    "## updates plot titles when uploading charts to chart-studio.\n",
    "PLACE=\"CLOUDLAB:\""
   ]
  },
  {
   "cell_type": "code",
   "execution_count": null,
   "metadata": {},
   "outputs": [],
   "source": [
    "def add_annotation(text):\n",
    "    anno = \"<h3><pre>%s</pre></h3>\" % text\n",
    "    annotations.append(anno)"
   ]
  },
  {
   "cell_type": "code",
   "execution_count": null,
   "metadata": {},
   "outputs": [],
   "source": [
    "%%javascript\n",
    "IPython.OutputArea.prototype._should_scroll = function(lines) {\n",
    "    return false;\n",
    "}"
   ]
  },
  {
   "cell_type": "markdown",
   "metadata": {},
   "source": [
    "### set up remote plotting"
   ]
  },
  {
   "cell_type": "code",
   "execution_count": null,
   "metadata": {},
   "outputs": [],
   "source": [
    "if os.getlogin() == 'narekg':\n",
    "    # Please do not override my chartly plots if you are not me\n",
    "    chart_studio.tools.set_credentials_file(username='ngalstyan', api_key='dApbes8sgyjaWkPJL8cA')\n",
    "\n",
    "from datetime import date\n",
    "UPLOAD_PLOTS = False\n",
    "def plot(fig):\n",
    "    fig.layout.title.text = PLACE + fig.layout.title.text\n",
    "    if UPLOAD_PLOTS:\n",
    "        f = \"%s:%s\" % (date.today(), fig.layout.title.text)\n",
    "        f = f[:50]\n",
    "        url = py.plot(fig, auto_open=False)\n",
    "        print(url)\n",
    "        fig.layout.title.text += url\n",
    "\n",
    "    return fig.show()"
   ]
  },
  {
   "cell_type": "markdown",
   "metadata": {},
   "source": [
    "# Experiment plots"
   ]
  },
  {
   "cell_type": "markdown",
   "metadata": {},
   "source": [
    "## Define experiments"
   ]
  },
  {
   "cell_type": "code",
   "execution_count": null,
   "metadata": {},
   "outputs": [],
   "source": [
    "EXPERIMENT_TYPES = [\n",
    "    \"no_prefetching\",\n",
    "    \"linux_prefetching\",\n",
    "    #\"linux_prefetching_ssdopt\",\n",
    "    #\"linux_prefetching_ssdopt_asyncwrites\",\n",
    "    #\"linux_prefetching_ssdopt_asyncwrites\",\n",
    "\n",
    "    \"tape_prefetching_syncwrites\",\n",
    "    \"tape_prefetching_asyncwrites\",\n",
    "   # \"tape_prefetching_asyncwrites_linux\",\n",
    "\n",
    "    #\"tape_prefetching_asyncwrites_offload_fetch\",\n",
    "]\n",
    "annotations=[]"
   ]
  },
  {
   "cell_type": "code",
   "execution_count": null,
   "metadata": {},
   "outputs": [],
   "source": [
    "WORKLOADS = [\"mmult_eigen\", \"mmult_eigen_vec\", \"mmult_eigen_dot\", \"sort\"\n",
    "             # \"vec_eigen\",\n",
    "             # \"dot_eigen\", \"mmap_random_rw\",\"kissfft\",  \"kmeans\", \"torch\",\n",
    "             # \"bitonic_merge\", \"native_sort\",\n",
    "             # \"bitonic_sort\", \"torch\", \"torch_par\",\"torch_par4\",\"linpack\", \"mmult_eigen_par\"\n",
    "             # \"alexnet\", \"vgg16\", \"batcher_sort\"\n",
    "            ]"
   ]
  },
  {
   "cell_type": "markdown",
   "metadata": {},
   "source": [
    "## Load data(single pandas table of all experiments per workload)"
   ]
  },
  {
   "cell_type": "code",
   "execution_count": null,
   "metadata": {},
   "outputs": [],
   "source": [
    "data = {}\n",
    "for workload in WORKLOADS:\n",
    "    data[workload] = augment_tables(get_experiment_data(EXPERIMENT_TYPES, workload,\"../experiment_results\"), filter_raw=True)"
   ]
  },
  {
   "cell_type": "markdown",
   "metadata": {},
   "source": [
    "## Explore & Plot"
   ]
  },
  {
   "cell_type": "code",
   "execution_count": null,
   "metadata": {},
   "outputs": [],
   "source": [
    "## TODO:::take_column_named:: VERY VERY HACKY.. assumes all tables have data appropriately sorted\n",
    "## sanity check later with more data, if these plots become crucial\n",
    "runtime = take_column_named(\"Measured(wallclock) runtime\",data).dropna()\n",
    "fig = px.line(runtime, title='Absolute(Wallclock) Runtime vs. Local Memory', \n",
    "              animation_frame=\"Experiment Name\")\n",
    "fig.update_layout(\n",
    "    xaxis_title=\"Ratio(%)\",\n",
    "    yaxis_title=\"Measured(wallclock) runtime(s)\",\n",
    ")\n",
    "#plot(fig)\n",
    "\n",
    "degradations = take_column_named(\"Degradation(%)\",data).dropna()\n",
    "fig = px.line(degradations, title='Normalized Runtime(Wallclock) vs. Local Memory',\n",
    "                animation_frame=\"Experiment Name\")\n",
    "\n",
    "fig.update_layout(\n",
    "    xaxis_title=\"Ratio(%)\",\n",
    "    yaxis_title=\"Degradation(%)\",\n",
    ")\n",
    "plot(fig)\n",
    "\n",
    "degradations_no_ev = take_column_named(\"Degradation w/o Evictions(%)\",data).dropna()\n",
    "fig = px.line(degradations_no_ev, title='Normalized Runtime vs. Local Memory (SUBTRACT time spent in evictions)',\n",
    "             animation_frame=\"Experiment Name\")\n",
    "fig.update_layout(\n",
    "    xaxis_title=\"Ratio(%)\",\n",
    "    yaxis_title=\"Degradation w/o Evictions(%)\",\n",
    ")\n",
    "#plot(fig)\n",
    "\n",
    "    \n",
    "for exp in WORKLOADS:\n",
    "    fig = px.line(degradations.pivot(columns=\"Experiment Name\", values=\"(%s)Degradation(%%)\" % exp), title='Perfrormance comparison under different prefetching strategies - %s' % exp)\n",
    "    fig.update_layout(\n",
    "        xaxis_title=\"Ratio(%)\",\n",
    "        yaxis_title=\"Degradation(%)\",\n",
    "    )\n",
    "    plot(fig)"
   ]
  },
  {
   "cell_type": "code",
   "execution_count": null,
   "metadata": {},
   "outputs": [],
   "source": [
    "runtime_components = []\n",
    "\n",
    "for workload in WORKLOADS:\n",
    "    fig = get_components_of_runtime(data[workload], \"%s\" % workload)\n",
    "    runtime_components.append(fig)\n",
    "    fig.update_layout(yaxis_range=[0,15])\n",
    "    plot(fig)"
   ]
  },
  {
   "cell_type": "code",
   "execution_count": null,
   "metadata": {},
   "outputs": [],
   "source": [
    "nic_data = get_nic_monitor_data(EXPERIMENT_TYPES, \"mmult_eigen\", \"../experiment_results\")"
   ]
  },
  {
   "cell_type": "code",
   "execution_count": null,
   "metadata": {},
   "outputs": [],
   "source": [
    "for exp in EXPERIMENT_TYPES:\n",
    "    fig = px.line(nic_data.loc[nic_data[\"Experiment Name\"] == exp].sort_values([\"RATIO\", \"Time(s)\"]), \n",
    "            x='Time(s)', y=['Xmit(MB)','Recv(MB)'],\n",
    "                  animation_frame=\"RATIO\",\n",
    "                  title= \"NIC traffic: mmult_eigen, %s\" % exp\n",
    "                )\n",
    "    \n",
    "    fig.update_layout(\n",
    "        xaxis_title=\"Seconds after App start\",\n",
    "        yaxis_title=\"Data (MB)\",\n",
    "    )\n",
    "    #plot(fig)\n",
    "    fig.show()"
   ]
  },
  {
   "cell_type": "markdown",
   "metadata": {},
   "source": [
    "Multi-Switch Analysis\n",
    "=================="
   ]
  },
  {
   "cell_type": "code",
   "execution_count": null,
   "metadata": {},
   "outputs": [],
   "source": [
    "hops = (0, 1, 2, 3, 4)\n",
    "data_by_hop = {}\n",
    "for hop in hops:\n",
    "    data_by_hop[hop] = {}\n",
    "    for workload in WORKLOADS:\n",
    "        data_by_hop[hop][workload] = augment_tables(get_experiment_data(EXPERIMENT_TYPES, workload,\"../experiment_results_{0}\".format(hop)), filter_raw=True)"
   ]
  },
  {
   "cell_type": "code",
   "execution_count": null,
   "metadata": {},
   "outputs": [],
   "source": [
    "SLICE_RATIO = 30\n",
    "\n",
    "frames_by_hop = []\n",
    "for hop in data_by_hop:\n",
    "    data = data_by_hop[hop]\n",
    "    degradations = take_column_named(\"Degradation(%)\",data).dropna()\n",
    "#     degradations = take_column_named(\"Measured(wallclock) runtime\",data).dropna()\n",
    "    degradation_for_hop = degradations.loc[SLICE_RATIO]\n",
    "    degradation_for_hop[\"Hop Count\"] = hop\n",
    "    degradation_for_hop = degradation_for_hop.set_index(\"Hop Count\")\n",
    "    frames_by_hop.append(degradation_for_hop)\n",
    "    \n",
    "hop_frame = pd.concat(frames_by_hop)\n",
    "hop_frame"
   ]
  },
  {
   "cell_type": "code",
   "execution_count": null,
   "metadata": {},
   "outputs": [],
   "source": [
    "fig = px.line(hop_frame, title='Normalized Runtime(Wallclock) vs. Local Memory', \n",
    "              animation_frame=\"Experiment Name\")\n",
    "fig.update_layout(\n",
    "    xaxis_title=\"Hop Count\",\n",
    "    yaxis_title=\"Normalized Runtime(Wallclock)\",\n",
    "    yaxis_range=[0, 800],\n",
    ")"
   ]
  },
  {
   "cell_type": "code",
   "execution_count": null,
   "metadata": {
    "scrolled": true
   },
   "outputs": [],
   "source": [
    "runtime_components = []\n",
    "\n",
    "def revised_get_components_of_runtime(table, name=\"unnamed\"):\n",
    "    sub_tbl = table[[\"Baseline User Time\",\n",
    "                     \"Extra User Time\",\n",
    "                     \"Eviction Time\",\n",
    "                     \"Baseline minor PF Time\",\n",
    "                     \"Extra Minor PF Time\",\n",
    "                     \"Major PF Time\",\n",
    "                                     ]] / 1e6\n",
    "    sub_tbl[\"Experiment Name\"] = table[\"Experiment Name\"]\n",
    "    fig = px.area(sub_tbl, title='Components of runtime(%s)'%name,\n",
    "                  color_discrete_sequence=['#ab63fa', '#3c0c73', '#636efa', '#ef553b',  '#9e1700','#00cc96'],\n",
    "                  animation_frame=\"Experiment Name\")\n",
    "    fig.update_layout(\n",
    "        xaxis_title=\"Hop Count\",\n",
    "        yaxis_title=\"Time(seconds)\",\n",
    "    )\n",
    " #   fig.add_trace(px.line(table[\"Measured(wallclock) runtime\"]).data[0])\n",
    "  #  fig.add_trace(px.line(table[\"sys+usr\"] / 1e6).data[0])\n",
    "\n",
    "    def anno(text, posx = 1.1, posy=0.32):\n",
    "        dy = -0.04\n",
    "        if anno.counter > 0:\n",
    "            posx += 0.15\n",
    "        fig.add_annotation(text=text,\n",
    "              xref=\"paper\", yref=\"paper\",\n",
    "              x=posx, y=posy + dy * anno.counter, showarrow=False)\n",
    "        anno.counter+= 1\n",
    "    anno.counter = 0\n",
    "\n",
    "    #anno(\"Workload constants:\")\n",
    "    #anno(\"Baseline System Time(s): %.2f\" % (table[\"Baseline System Time\"].values[0]/1e6))\n",
    "    #anno(\"Baseline App Time(s): %.2f\" % (table[\"Baseline App Time(us)\"].values[0] / 1e6))\n",
    "    #anno(\"Baseline Minor PF Time(us): %.2f\" % table[\"Baseline Single Minor PF Time(us)\"].values[0])\n",
    "\n",
    "    return fig\n",
    "\n",
    "for workload in WORKLOADS:\n",
    "    hop_data_frames = []\n",
    "    for hop in data_by_hop:\n",
    "        data_for_hop = data_by_hop[hop][workload]\n",
    "        data_for_hop = data_for_hop.loc[SLICE_RATIO]\n",
    "        data_for_hop[\"Hop Count\"] = hop\n",
    "        data_for_hop = data_for_hop.set_index(\"Hop Count\")\n",
    "        hop_data_frames.append(data_for_hop)\n",
    "    hop_data = pd.concat(hop_data_frames)\n",
    "    fig = revised_get_components_of_runtime(hop_data, \"%s\" % workload)\n",
    "    runtime_components.append(fig)\n",
    "    fig.update_layout(yaxis_range=[0,20])\n",
    "    plot(fig)"
   ]
  }
 ],
 "metadata": {
  "kernelspec": {
   "display_name": "Python 3",
   "language": "python",
   "name": "python3"
  },
  "language_info": {
   "codemirror_mode": {
    "name": "ipython",
    "version": 3
   },
   "file_extension": ".py",
   "mimetype": "text/x-python",
   "name": "python",
   "nbconvert_exporter": "python",
   "pygments_lexer": "ipython3",
   "version": "3.8.10"
  }
 },
 "nbformat": 4,
 "nbformat_minor": 5
}
